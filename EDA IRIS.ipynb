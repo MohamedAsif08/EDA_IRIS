{
 "cells": [
  {
   "cell_type": "markdown",
   "id": "5d75594d",
   "metadata": {},
   "source": [
    "# Univariate, Bivariate and Multi-Variate"
   ]
  },
  {
   "cell_type": "code",
   "execution_count": 1,
   "id": "32040c20",
   "metadata": {},
   "outputs": [],
   "source": [
    "import pandas as pd\n",
    "import numpy as np\n",
    "import matplotlib.pyplot as plt\n",
    "import seaboarn as sns"
   ]
  },
  {
   "cell_type": "code",
   "execution_count": null,
   "id": "467d59ef",
   "metadata": {},
   "outputs": [],
   "source": [
    "df = pd.read_csv(\"\")"
   ]
  }
 ],
 "metadata": {
  "kernelspec": {
   "display_name": "Python 3 (ipykernel)",
   "language": "python",
   "name": "python3"
  },
  "language_info": {
   "codemirror_mode": {
    "name": "ipython",
    "version": 3
   },
   "file_extension": ".py",
   "mimetype": "text/x-python",
   "name": "python",
   "nbconvert_exporter": "python",
   "pygments_lexer": "ipython3",
   "version": "3.11.2"
  }
 },
 "nbformat": 4,
 "nbformat_minor": 5
}
